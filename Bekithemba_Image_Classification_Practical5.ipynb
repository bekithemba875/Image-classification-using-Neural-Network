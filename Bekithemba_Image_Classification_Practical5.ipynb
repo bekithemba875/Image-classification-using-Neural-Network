{
 "cells": [
  {
   "cell_type": "markdown",
   "metadata": {
    "id": "Zs3Vxo5dmP7j"
   },
   "source": [
    "## Image classification Practical\n",
    "\n",
    "***NOTE***\n",
    "\n",
    "Be sure to use hardware acceleration to use the GPU. Click on `Runtime`, change `runtime type`, and select `GPU` for the *hardware accelerator* option.\n",
    "\n",
    "<hr>\n",
    "\n",
    "Total marks: 33\n",
    "\n",
    "Familiarise yourself with the data set: https://www.cs.toronto.edu/~kriz/cifar.html\n",
    "\n",
    "Question 1: how many classes are in cifar-10?\n",
    "\n",
    "\n",
    "There are 10 classes.\n",
    "\n",
    "Question 2: is this a colour or greyscale image dataset?\n",
    "\n",
    "It is a greyscale image.\n",
    "\n",
    "Question 3: how many channels/depth should the images have?\n",
    "\n",
    "\n",
    "The images have a depth of 3\n",
    "\n",
    "Question 4: is this a regression or classification problem?\n",
    "\n",
    "\n",
    "It is a classification problem.\n",
    "\n",
    "Question 5: if we one-hot encode the targets for this dataset, what will the dimensions of the resulting vector be?\n",
    "\n",
    "Question 6: which activation function will you most likely use in the last layer of your model for this problem?"
   ]
  },
  {
   "cell_type": "code",
   "execution_count": 182,
   "metadata": {
    "id": "ZQjyYBZr74JL"
   },
   "outputs": [],
   "source": []
  },
  {
   "cell_type": "code",
   "execution_count": 183,
   "metadata": {
    "id": "q_D_9YfP8A8A"
   },
   "outputs": [],
   "source": [
    "from tensorflow.keras.models import Sequential\n",
    "from tensorflow.keras.layers import Dense, Conv2D, MaxPool2D, Flatten, Dropout\n",
    "from tensorflow.keras.losses import CategoricalCrossentropy\n",
    "from tensorflow.keras.optimizers import SGD\n",
    "from tensorflow.keras.datasets import fashion_mnist\n",
    "from tensorflow.keras.callbacks import ModelCheckpoint\n",
    "import numpy as np\n",
    "import matplotlib.pyplot as plt\n",
    "from keras.utils import np_utils\n",
    "from sklearn.metrics import accuracy_score, confusion_matrix\n",
    "from tensorflow.keras.utils import to_categorical\n",
    "from sklearn.preprocessing import LabelEncoder\n",
    "from sklearn.model_selection import train_test_split\n",
    "import pandas as pd\n",
    "%matplotlib inline"
   ]
  },
  {
   "cell_type": "code",
   "execution_count": 184,
   "metadata": {
    "id": "nvCXvXq5mP7p"
   },
   "outputs": [],
   "source": [
    "from keras.datasets import cifar10"
   ]
  },
  {
   "cell_type": "markdown",
   "metadata": {
    "id": "X1GTR35cmP7v"
   },
   "source": [
    "## Load the dataset"
   ]
  },
  {
   "cell_type": "code",
   "execution_count": 185,
   "metadata": {
    "id": "uQ_KjFJomP7x"
   },
   "outputs": [],
   "source": [
    "(X_train, Y_train), (X_test, Y_test) = cifar10.load_data()"
   ]
  },
  {
   "cell_type": "markdown",
   "metadata": {
    "id": "PmWKOEIrg-mj"
   },
   "source": [
    "#Task: do all preprocessing here\n",
    "\n",
    "The data is obtained as a training and testing set. Typically, it's a good idea to create a validation set from the training set. Hint: previous pracs illustrated how to do this. Name the validation data as `X_val` and `Y_val`.\n",
    "\n",
    "All other preprocessing including normalisation, one-hot encoding etc should be added here..."
   ]
  },
  {
   "cell_type": "code",
   "execution_count": 186,
   "metadata": {
    "colab": {
     "base_uri": "https://localhost:8080/"
    },
    "id": "ueyWl-aUmP72",
    "outputId": "13e67205-8121-410a-8d05-6200c2f2df1e"
   },
   "outputs": [
    {
     "name": "stdout",
     "output_type": "stream",
     "text": [
      "Training data shape :  (50000, 32, 32, 3) (50000, 1)\n"
     ]
    }
   ],
   "source": [
    "print('Training data shape : ', X_train.shape, Y_train.shape)"
   ]
  },
  {
   "cell_type": "code",
   "execution_count": 187,
   "metadata": {
    "colab": {
     "base_uri": "https://localhost:8080/"
    },
    "id": "3bsoluyzBOYR",
    "outputId": "80f45774-73a3-4311-8272-52e218d5d1e4"
   },
   "outputs": [
    {
     "name": "stdout",
     "output_type": "stream",
     "text": [
      "Testing data shape :  (10000, 32, 32, 3) (10000, 1)\n"
     ]
    }
   ],
   "source": [
    "print('Testing data shape : ', X_test.shape, Y_test.shape)"
   ]
  },
  {
   "cell_type": "code",
   "execution_count": 188,
   "metadata": {
    "colab": {
     "base_uri": "https://localhost:8080/"
    },
    "id": "o29O_gUTmP79",
    "outputId": "e5d39161-1e27-47bd-f316-59b5a3c93d09"
   },
   "outputs": [
    {
     "name": "stdout",
     "output_type": "stream",
     "text": [
      "Total number of outputs :  10\n",
      "Output classes :  [0 1 2 3 4 5 6 7 8 9]\n"
     ]
    }
   ],
   "source": [
    "classes = np.unique(Y_train)\n",
    "nClasses = len(classes)\n",
    "print('Total number of outputs : ', nClasses)\n",
    "print('Output classes : ', classes)"
   ]
  },
  {
   "cell_type": "code",
   "execution_count": 189,
   "metadata": {
    "colab": {
     "base_uri": "https://localhost:8080/",
     "height": 335
    },
    "id": "qQpW4rajmP8C",
    "outputId": "1b72d398-cebe-4c91-d556-11db55c11a32"
   },
   "outputs": [
    {
     "data": {
      "text/plain": [
       "Text(0.5, 1.0, 'Ground Truth : [5]')"
      ]
     },
     "execution_count": 189,
     "metadata": {},
     "output_type": "execute_result"
    },
    {
     "data": {
      "image/png": "[encoded data removed]",
      "text/plain": [
       "<Figure size 720x360 with 2 Axes>"
      ]
     },
     "metadata": {
      "needs_background": "light"
     },
     "output_type": "display_data"
    }
   ],
   "source": [
    "data_point = 250\n",
    "\n",
    "\n",
    "plt.figure(figsize=[10,5])\n",
    " \n",
    "# Display the first image in training data\n",
    "plt.subplot(121)\n",
    "plt.imshow(X_train[data_point,:,:], cmap='gray')\n",
    "plt.title(\"Ground Truth : {}\".format(Y_train[data_point]))\n",
    " \n",
    "# Display the first image in testing data\n",
    "plt.subplot(122)\n",
    "plt.imshow(X_test[data_point,:,:], cmap='gray')\n",
    "plt.title(\"Ground Truth : {}\".format(Y_test[data_point]))"
   ]
  },
  {
   "cell_type": "code",
   "execution_count": 190,
   "metadata": {
    "colab": {
     "base_uri": "https://localhost:8080/"
    },
    "id": "TBbn1qONB0M8",
    "outputId": "7c586487-1640-4c2d-e4d1-7d854a788669"
   },
   "outputs": [
    {
     "data": {
      "text/plain": [
       "(50000, 32, 32, 3)"
      ]
     },
     "execution_count": 190,
     "metadata": {},
     "output_type": "execute_result"
    }
   ],
   "source": [
    "X_train.shape"
   ]
  },
  {
   "cell_type": "code",
   "execution_count": 191,
   "metadata": {
    "colab": {
     "base_uri": "https://localhost:8080/"
    },
    "id": "2a9BnMfaSReT",
    "outputId": "c4682b1c-1772-4b3b-e2c0-26070d4784ac"
   },
   "outputs": [
    {
     "data": {
      "text/plain": [
       "50000"
      ]
     },
     "execution_count": 191,
     "metadata": {},
     "output_type": "execute_result"
    }
   ],
   "source": [
    "X_train.shape[0]"
   ]
  },
  {
   "cell_type": "code",
   "execution_count": 192,
   "metadata": {
    "colab": {
     "base_uri": "https://localhost:8080/"
    },
    "id": "cgfdi1GcSRkl",
    "outputId": "a7f237ff-1382-42e6-d2d6-d3ba787d54f1"
   },
   "outputs": [
    {
     "data": {
      "text/plain": [
       "32"
      ]
     },
     "execution_count": 192,
     "metadata": {},
     "output_type": "execute_result"
    }
   ],
   "source": [
    "X_train.shape[1]"
   ]
  },
  {
   "cell_type": "code",
   "execution_count": 192,
   "metadata": {
    "id": "X_QlOTF3CoQG"
   },
   "outputs": [],
   "source": []
  },
  {
   "cell_type": "code",
   "execution_count": 193,
   "metadata": {
    "id": "D8HTp2YHVH4_"
   },
   "outputs": [],
   "source": [
    "X_train_reshaped = np.reshape(X_train,(50000,32,32,3))"
   ]
  },
  {
   "cell_type": "code",
   "execution_count": 194,
   "metadata": {
    "id": "-f6OKPZ-EQeX"
   },
   "outputs": [],
   "source": [
    "X_test_reshaped = np.reshape(X_test,(10000,32,32,3))"
   ]
  },
  {
   "cell_type": "code",
   "execution_count": 195,
   "metadata": {
    "colab": {
     "base_uri": "https://localhost:8080/"
    },
    "id": "CJJ5eCQ7QeRv",
    "outputId": "c4c3bd2c-8272-493a-d151-c3c64a50a58c"
   },
   "outputs": [
    {
     "data": {
      "text/plain": [
       "array([[[ 59,  62,  63],\n",
       "        [ 43,  46,  45],\n",
       "        [ 50,  48,  43],\n",
       "        ...,\n",
       "        [158, 132, 108],\n",
       "        [152, 125, 102],\n",
       "        [148, 124, 103]],\n",
       "\n",
       "       [[ 16,  20,  20],\n",
       "        [  0,   0,   0],\n",
       "        [ 18,   8,   0],\n",
       "        ...,\n",
       "        [123,  88,  55],\n",
       "        [119,  83,  50],\n",
       "        [122,  87,  57]],\n",
       "\n",
       "       [[ 25,  24,  21],\n",
       "        [ 16,   7,   0],\n",
       "        [ 49,  27,   8],\n",
       "        ...,\n",
       "        [118,  84,  50],\n",
       "        [120,  84,  50],\n",
       "        [109,  73,  42]],\n",
       "\n",
       "       ...,\n",
       "\n",
       "       [[208, 170,  96],\n",
       "        [201, 153,  34],\n",
       "        [198, 161,  26],\n",
       "        ...,\n",
       "        [160, 133,  70],\n",
       "        [ 56,  31,   7],\n",
       "        [ 53,  34,  20]],\n",
       "\n",
       "       [[180, 139,  96],\n",
       "        [173, 123,  42],\n",
       "        [186, 144,  30],\n",
       "        ...,\n",
       "        [184, 148,  94],\n",
       "        [ 97,  62,  34],\n",
       "        [ 83,  53,  34]],\n",
       "\n",
       "       [[177, 144, 116],\n",
       "        [168, 129,  94],\n",
       "        [179, 142,  87],\n",
       "        ...,\n",
       "        [216, 184, 140],\n",
       "        [151, 118,  84],\n",
       "        [123,  92,  72]]], dtype=uint8)"
      ]
     },
     "execution_count": 195,
     "metadata": {},
     "output_type": "execute_result"
    }
   ],
   "source": [
    "X_train[0]"
   ]
  },
  {
   "cell_type": "code",
   "execution_count": 196,
   "metadata": {
    "colab": {
     "base_uri": "https://localhost:8080/"
    },
    "id": "EKJadpoBEl4X",
    "outputId": "60971b45-615c-4bb3-e669-99ec481b4983"
   },
   "outputs": [
    {
     "data": {
      "text/plain": [
       "255"
      ]
     },
     "execution_count": 196,
     "metadata": {},
     "output_type": "execute_result"
    }
   ],
   "source": [
    "np.max(X_train[0])"
   ]
  },
  {
   "cell_type": "code",
   "execution_count": 197,
   "metadata": {
    "id": "mTZb3C53Etn-"
   },
   "outputs": [],
   "source": [
    "X_train = X_train/255"
   ]
  },
  {
   "cell_type": "code",
   "execution_count": 198,
   "metadata": {
    "id": "2dyXzvlgE0rB"
   },
   "outputs": [],
   "source": [
    "X_test = X_test/255"
   ]
  },
  {
   "cell_type": "code",
   "execution_count": 199,
   "metadata": {
    "id": "rPlFbX4vFFZ8"
   },
   "outputs": [],
   "source": [
    "X_train, X_val, Y_train, Y_val= train_test_split(X_train,Y_train,test_size=0.2)"
   ]
  },
  {
   "cell_type": "code",
   "execution_count": 200,
   "metadata": {
    "id": "i3xjsPnVmP8j"
   },
   "outputs": [],
   "source": [
    "Y_train = np_utils.to_categorical(Y_train, 10)\n",
    "Y_test = np_utils.to_categorical(Y_test, 10)\n",
    "num_classes = 10"
   ]
  },
  {
   "cell_type": "markdown",
   "metadata": {
    "id": "VungsdeHmP8u"
   },
   "source": [
    "## Create a convolutional neural network\n",
    "\n",
    "Your network must get at least 70% accuracy on the test set.\n",
    "\n",
    "Your model must have less than 600,000 weights in total.\n",
    "\n",
    "Hint: try first with no dropout, then add dropout - what happens, is it bettter or worse?\n",
    "\n",
    "Hint: try small batch size"
   ]
  },
  {
   "cell_type": "code",
   "execution_count": 200,
   "metadata": {
    "id": "gozmsPxhmP8v"
   },
   "outputs": [],
   "source": []
  },
  {
   "cell_type": "code",
   "execution_count": 201,
   "metadata": {
    "id": "EOBjsr8eHQ1v"
   },
   "outputs": [],
   "source": [
    "def baseline_model():\n",
    "    # create model\n",
    "    model = Sequential()\n",
    "    \n",
    "    # Since this is the first layer, we need to specify the input shape. Only here, only once.\n",
    "    # We are creating 64 filters each of size 2x2. What will be the depth of each of those 64 filters?\n",
    "    # What will be the resulting depth of the feature map after applying these filters?\n",
    "\n",
    "    # \"valid\" means no padding. \"same\" results in padding with zeros evenly to the \n",
    "    # left/right or up/down of the input such that output has the same height/width dimension as the input. \n",
    "    model.add(Conv2D(filters=64, kernel_size=2, activation='relu', input_shape=(32,32,3))) \n",
    "    \n",
    "    # Here we create a 2x2 max pooling layer\n",
    "    model.add(MaxPool2D(pool_size=2))\n",
    "\n",
    "    model.add(Conv2D(filters=110, kernel_size=2, padding='same', activation='relu')) \n",
    "    model.add(MaxPool2D(pool_size=2))\n",
    "    model.add(Conv2D(filters=110, kernel_size=2, padding='same', activation='relu')) \n",
    "    model.add(MaxPool2D(pool_size=2))\n",
    "\n",
    "    # In order to pass output from the convolutional block to the dense block, we must flatten each example in the minibatch. \n",
    "    # In other words, we take this four-dimensional input [batch, width, height, depth] and transform it into the two-dimensional input [batch, units/input dimensions] expected by fully-connected layers\n",
    "    model.add(Flatten())\n",
    "    \n",
    "    model.add(Dense(512, activation='relu'))\n",
    "\n",
    "    model.add(Dropout(0.5))\n",
    "    \n",
    "    model.add(Dense(10, activation='softmax'))\n",
    "\n",
    "    loss = CategoricalCrossentropy()\n",
    "    \n",
    "    # Compile the model\n",
    "    model.compile(loss=loss,\n",
    "             optimizer='adam',\n",
    "             metrics=['accuracy'])\n",
    "    return model"
   ]
  },
  {
   "cell_type": "code",
   "execution_count": 202,
   "metadata": {
    "id": "Q03EcUrxmP8x"
   },
   "outputs": [],
   "source": [
    "model = baseline_model()"
   ]
  },
  {
   "cell_type": "markdown",
   "metadata": {
    "id": "bUN6K31smP80"
   },
   "source": [
    "## Determine the number of trainable parameters"
   ]
  },
  {
   "cell_type": "code",
   "execution_count": 202,
   "metadata": {
    "id": "_DxDanOHmP80"
   },
   "outputs": [],
   "source": []
  },
  {
   "cell_type": "code",
   "execution_count": 203,
   "metadata": {
    "colab": {
     "base_uri": "https://localhost:8080/"
    },
    "id": "IF9YQeWrHfxc",
    "outputId": "390020d1-4c61-4016-f2bd-eadcec485453"
   },
   "outputs": [
    {
     "name": "stdout",
     "output_type": "stream",
     "text": [
      "Model: \"sequential_15\"\n",
      "_________________________________________________________________\n",
      " Layer (type)                Output Shape              Param #   \n",
      "=================================================================\n",
      " conv2d_45 (Conv2D)          (None, 31, 31, 64)        832       \n",
      "                                                                 \n",
      " max_pooling2d_45 (MaxPoolin  (None, 15, 15, 64)       0         \n",
      " g2D)                                                            \n",
      "                                                                 \n",
      " conv2d_46 (Conv2D)          (None, 15, 15, 110)       28270     \n",
      "                                                                 \n",
      " max_pooling2d_46 (MaxPoolin  (None, 7, 7, 110)        0         \n",
      " g2D)                                                            \n",
      "                                                                 \n",
      " conv2d_47 (Conv2D)          (None, 7, 7, 110)         48510     \n",
      "                                                                 \n",
      " max_pooling2d_47 (MaxPoolin  (None, 3, 3, 110)        0         \n",
      " g2D)                                                            \n",
      "                                                                 \n",
      " flatten_15 (Flatten)        (None, 990)               0         \n",
      "                                                                 \n",
      " dense_30 (Dense)            (None, 512)               507392    \n",
      "                                                                 \n",
      " dropout_15 (Dropout)        (None, 512)               0         \n",
      "                                                                 \n",
      " dense_31 (Dense)            (None, 10)                5130      \n",
      "                                                                 \n",
      "=================================================================\n",
      "Total params: 590,134\n",
      "Trainable params: 590,134\n",
      "Non-trainable params: 0\n",
      "_________________________________________________________________\n"
     ]
    }
   ],
   "source": [
    "model.summary()"
   ]
  },
  {
   "cell_type": "code",
   "execution_count": 204,
   "metadata": {
    "id": "HBQfomgaBUo3"
   },
   "outputs": [],
   "source": [
    "checkpoint_path = \"training/cp-{epoch:04d}.ckpt\"\n",
    "\n",
    "cp_callback = ModelCheckpoint(filepath=checkpoint_path, \n",
    "                              save_best_only=True, \n",
    "                              save_weights_only=True, \n",
    "                              verbose=1)"
   ]
  },
  {
   "cell_type": "markdown",
   "metadata": {
    "id": "ifPs0mftmP84"
   },
   "source": [
    "## Train the model\n"
   ]
  },
  {
   "cell_type": "code",
   "execution_count": 204,
   "metadata": {
    "id": "j8RZc1rhmP84"
   },
   "outputs": [],
   "source": []
  },
  {
   "cell_type": "code",
   "execution_count": 205,
   "metadata": {
    "colab": {
     "base_uri": "https://localhost:8080/"
    },
    "id": "w53IgVviH5ja",
    "outputId": "883dfe31-f199-4286-c074-baf9044e4140"
   },
   "outputs": [
    {
     "name": "stdout",
     "output_type": "stream",
     "text": [
      "Epoch 1/10\n",
      "248/250 [============================>.] - ETA: 0s - loss: 1.7222 - accuracy: 0.3638\n",
      "Epoch 00001: val_loss improved from inf to 1.42290, saving model to training/cp-0001.ckpt\n",
      "250/250 [==============================] - 7s 25ms/step - loss: 1.7192 - accuracy: 0.3650 - val_loss: 1.4229 - val_accuracy: 0.4970\n",
      "Epoch 2/10\n",
      "250/250 [==============================] - ETA: 0s - loss: 1.3346 - accuracy: 0.5237\n",
      "Epoch 00002: val_loss improved from 1.42290 to 1.20909, saving model to training/cp-0002.ckpt\n",
      "250/250 [==============================] - 6s 23ms/step - loss: 1.3346 - accuracy: 0.5237 - val_loss: 1.2091 - val_accuracy: 0.5659\n",
      "Epoch 3/10\n",
      "249/250 [============================>.] - ETA: 0s - loss: 1.1646 - accuracy: 0.5884\n",
      "Epoch 00003: val_loss improved from 1.20909 to 1.07860, saving model to training/cp-0003.ckpt\n",
      "250/250 [==============================] - 6s 24ms/step - loss: 1.1643 - accuracy: 0.5886 - val_loss: 1.0786 - val_accuracy: 0.6217\n",
      "Epoch 4/10\n",
      "248/250 [============================>.] - ETA: 0s - loss: 1.0438 - accuracy: 0.6326\n",
      "Epoch 00004: val_loss improved from 1.07860 to 1.01148, saving model to training/cp-0004.ckpt\n",
      "250/250 [==============================] - 6s 24ms/step - loss: 1.0439 - accuracy: 0.6328 - val_loss: 1.0115 - val_accuracy: 0.6404\n",
      "Epoch 5/10\n",
      "248/250 [============================>.] - ETA: 0s - loss: 0.9680 - accuracy: 0.6609\n",
      "Epoch 00005: val_loss improved from 1.01148 to 0.96003, saving model to training/cp-0005.ckpt\n",
      "250/250 [==============================] - 6s 24ms/step - loss: 0.9678 - accuracy: 0.6611 - val_loss: 0.9600 - val_accuracy: 0.6680\n",
      "Epoch 6/10\n",
      "248/250 [============================>.] - ETA: 0s - loss: 0.8890 - accuracy: 0.6877\n",
      "Epoch 00006: val_loss improved from 0.96003 to 0.91748, saving model to training/cp-0006.ckpt\n",
      "250/250 [==============================] - 6s 24ms/step - loss: 0.8889 - accuracy: 0.6877 - val_loss: 0.9175 - val_accuracy: 0.6758\n",
      "Epoch 7/10\n",
      "249/250 [============================>.] - ETA: 0s - loss: 0.8290 - accuracy: 0.7077\n",
      "Epoch 00007: val_loss improved from 0.91748 to 0.87041, saving model to training/cp-0007.ckpt\n",
      "250/250 [==============================] - 6s 24ms/step - loss: 0.8291 - accuracy: 0.7078 - val_loss: 0.8704 - val_accuracy: 0.6960\n",
      "Epoch 8/10\n",
      "248/250 [============================>.] - ETA: 0s - loss: 0.7668 - accuracy: 0.7299\n",
      "Epoch 00008: val_loss improved from 0.87041 to 0.85360, saving model to training/cp-0008.ckpt\n",
      "250/250 [==============================] - 6s 26ms/step - loss: 0.7675 - accuracy: 0.7295 - val_loss: 0.8536 - val_accuracy: 0.6963\n",
      "Epoch 9/10\n",
      "250/250 [==============================] - ETA: 0s - loss: 0.7174 - accuracy: 0.7474\n",
      "Epoch 00009: val_loss improved from 0.85360 to 0.80577, saving model to training/cp-0009.ckpt\n",
      "250/250 [==============================] - 6s 24ms/step - loss: 0.7174 - accuracy: 0.7474 - val_loss: 0.8058 - val_accuracy: 0.7237\n",
      "Epoch 10/10\n",
      "250/250 [==============================] - ETA: 0s - loss: 0.6789 - accuracy: 0.7591\n",
      "Epoch 00010: val_loss improved from 0.80577 to 0.78461, saving model to training/cp-0010.ckpt\n",
      "250/250 [==============================] - 6s 24ms/step - loss: 0.6789 - accuracy: 0.7591 - val_loss: 0.7846 - val_accuracy: 0.7289\n"
     ]
    }
   ],
   "source": [
    "history = model.fit(X_train, Y_train, validation_split=0.2, epochs=10, batch_size=128, verbose=1, callbacks=[cp_callback])"
   ]
  },
  {
   "cell_type": "markdown",
   "metadata": {
    "id": "74HVbElsaATP"
   },
   "source": [
    "## Plot the performance\n",
    "\n",
    "Plot the training and validation accuracy in a single plot"
   ]
  },
  {
   "cell_type": "code",
   "execution_count": 206,
   "metadata": {
    "colab": {
     "base_uri": "https://localhost:8080/",
     "height": 295
    },
    "id": "0KrSL1fuLG7d",
    "outputId": "d83b23ca-b56d-4f8c-fd14-5feaa1c2d2bf"
   },
   "outputs": [
    {
     "data": {
      "image/png": "[encoded data removed]",
      "text/plain": [
       "<Figure size 432x288 with 1 Axes>"
      ]
     },
     "metadata": {
      "needs_background": "light"
     },
     "output_type": "display_data"
    }
   ],
   "source": [
    "train_accuracy = history.history['accuracy']\n",
    "Val_accuracy = history.history['val_accuracy']\n",
    "epochs = range(0,10)\n",
    "plt.plot( epochs, train_accuracy, label='Training accuracy')\n",
    "plt.plot(epochs, Val_accuracy, label='validation accuracy')\n",
    "plt.title('Training and Validation accuracy')\n",
    "plt.xlabel('Epochs')\n",
    "plt.ylabel('accuracy')\n",
    "plt.legend()\n",
    "plt.show()"
   ]
  },
  {
   "cell_type": "markdown",
   "metadata": {
    "id": "_j9LecHgmP8_"
   },
   "source": [
    "## Predict on the test data"
   ]
  },
  {
   "cell_type": "code",
   "execution_count": 207,
   "metadata": {
    "id": "oHuCSeb-SCR1"
   },
   "outputs": [],
   "source": [
    "correct_values = np.argmax(Y_test,axis=1)"
   ]
  },
  {
   "cell_type": "code",
   "execution_count": 208,
   "metadata": {
    "colab": {
     "base_uri": "https://localhost:8080/"
    },
    "id": "Kcw-kucLR-hz",
    "outputId": "dadee189-9514-4c24-bde1-70c57d8f8688"
   },
   "outputs": [
    {
     "data": {
      "text/plain": [
       "10.47"
      ]
     },
     "execution_count": 208,
     "metadata": {},
     "output_type": "execute_result"
    }
   ],
   "source": [
    "# New random initialisation\n",
    "model = baseline_model()\n",
    "\n",
    "predictions = model.predict(X_test)\n",
    "predictions = np.argmax(predictions, axis=-1)\n",
    "\n",
    "accuracy_score(predictions,correct_values)*100"
   ]
  },
  {
   "cell_type": "code",
   "execution_count": 209,
   "metadata": {
    "colab": {
     "base_uri": "https://localhost:8080/"
    },
    "id": "OnI4SnbEmP88",
    "outputId": "484c017e-3912-4636-f0a3-6f07bf37ebcd"
   },
   "outputs": [
    {
     "data": {
      "text/plain": [
       "array([[0.10190456, 0.09312332, 0.09949318, 0.11132542, 0.10022839,\n",
       "        0.10268286, 0.10707971, 0.08526346, 0.0942136 , 0.10468552]],\n",
       "      dtype=float32)"
      ]
     },
     "execution_count": 209,
     "metadata": {},
     "output_type": "execute_result"
    }
   ],
   "source": [
    "model.predict(np.expand_dims(X_test[0], axis=0))"
   ]
  },
  {
   "cell_type": "code",
   "execution_count": 210,
   "metadata": {
    "colab": {
     "base_uri": "https://localhost:8080/"
    },
    "id": "80LVXvFkEWEY",
    "outputId": "bc55699f-96c3-42ab-ff51-204e425b85ff"
   },
   "outputs": [
    {
     "data": {
      "text/plain": [
       "array([3])"
      ]
     },
     "execution_count": 210,
     "metadata": {},
     "output_type": "execute_result"
    }
   ],
   "source": [
    "prediction = model.predict(np.expand_dims(X_test[0], axis=0))\n",
    "np.argmax(prediction, axis=-1)"
   ]
  },
  {
   "cell_type": "code",
   "execution_count": 211,
   "metadata": {
    "id": "7TtfkDWjmP8_"
   },
   "outputs": [],
   "source": [
    "predictions = model.predict(X_test)\n",
    "predictions = np.argmax(predictions, axis=-1)"
   ]
  },
  {
   "cell_type": "code",
   "execution_count": 212,
   "metadata": {
    "colab": {
     "base_uri": "https://localhost:8080/"
    },
    "id": "xBmZspLUmP9C",
    "outputId": "613d473f-40d2-45ad-dd6f-293499f60e90"
   },
   "outputs": [
    {
     "data": {
      "text/plain": [
       "array([3, 6, 3, 3, 3, 6, 3, 3, 6, 3])"
      ]
     },
     "execution_count": 212,
     "metadata": {},
     "output_type": "execute_result"
    }
   ],
   "source": [
    "predictions[0:10]"
   ]
  },
  {
   "cell_type": "markdown",
   "metadata": {
    "id": "yo4UgmBvmP9F"
   },
   "source": [
    "## Compute the accuracy\n",
    "\n",
    "Get at least 65% testing accuracy"
   ]
  },
  {
   "cell_type": "code",
   "execution_count": 212,
   "metadata": {
    "id": "NwJwKLwRmP9G"
   },
   "outputs": [],
   "source": []
  },
  {
   "cell_type": "code",
   "execution_count": 213,
   "metadata": {
    "colab": {
     "base_uri": "https://localhost:8080/"
    },
    "id": "YrYa0jqFCtuO",
    "outputId": "9f3ba10e-d046-4cd7-ffe1-1fc2f31d43a4"
   },
   "outputs": [
    {
     "data": {
      "text/plain": [
       "72.50999999999999"
      ]
     },
     "execution_count": 213,
     "metadata": {},
     "output_type": "execute_result"
    }
   ],
   "source": [
    "# Load a trained model from one of the checkpoints\n",
    "model = baseline_model()\n",
    "model.load_weights(\"training/cp-0010.ckpt\")\n",
    "\n",
    "predictions = model.predict(X_test)\n",
    "predictions = np.argmax(predictions, axis=-1)\n",
    "\n",
    "accuracy_score(predictions,correct_values)*100"
   ]
  },
  {
   "cell_type": "markdown",
   "metadata": {
    "id": "RxvpFhj7N574"
   },
   "source": [
    "## Obtain the confusion matrix"
   ]
  },
  {
   "cell_type": "code",
   "execution_count": 214,
   "metadata": {
    "colab": {
     "base_uri": "https://localhost:8080/"
    },
    "id": "jCTLkU3EPtOv",
    "outputId": "0bb4cdf1-fd40-497b-8497-06ba564950aa"
   },
   "outputs": [
    {
     "data": {
      "text/plain": [
       "array([[792,  22,  71,  19,  29,  14,   6,  19,  79,  35],\n",
       "       [ 22, 801,   4,   9,   2,   3,   3,   2,  35,  69],\n",
       "       [ 47,   5, 668,  75,  88,  79,  54,  43,  11,  10],\n",
       "       [ 16,  11,  55, 558,  73, 192,  60,  49,  19,  15],\n",
       "       [ 10,   0,  54,  45, 613,  27,  18,  48,   2,   2],\n",
       "       [  6,   3,  47, 164,  29, 600,  23,  58,   8,   4],\n",
       "       [  8,   8,  60,  62,  67,  17, 821,   7,   7,   6],\n",
       "       [  9,   2,  22,  33,  84,  55,   5, 756,   4,  10],\n",
       "       [ 55,  33,   9,  16,  13,   7,   9,   1, 815,  22],\n",
       "       [ 35, 115,  10,  19,   2,   6,   1,  17,  20, 827]])"
      ]
     },
     "execution_count": 214,
     "metadata": {},
     "output_type": "execute_result"
    }
   ],
   "source": [
    "confusion_matrix(predictions,correct_values)"
   ]
  }
 ],
 "metadata": {
  "accelerator": "GPU",
  "colab": {
   "collapsed_sections": [],
   "name": "Image Classification Practical.ipynb",
   "provenance": [],
   "toc_visible": true
  },
  "kernelspec": {
   "display_name": "Python 3",
   "language": "python",
   "name": "python3"
  },
  "language_info": {
   "codemirror_mode": {
    "name": "ipython",
    "version": 3
   },
   "file_extension": ".py",
   "mimetype": "text/x-python",
   "name": "python",
   "nbconvert_exporter": "python",
   "pygments_lexer": "ipython3",
   "version": "3.9.2"
  }
 },
 "nbformat": 4,
 "nbformat_minor": 1
}
