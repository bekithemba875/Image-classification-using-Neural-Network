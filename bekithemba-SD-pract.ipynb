{
 "cells": [
  {
   "cell_type": "markdown",
   "metadata": {
    "id": "grppvxVTNUWw"
   },
   "source": [
    "Monday 3rd Jan 2022\n",
    "\n",
    "Regression tree practical\n",
    "\n",
    "On the left, click on the folder icon and upload the boston.csv file."
   ]
  },
  {
   "cell_type": "markdown",
   "metadata": {
    "id": "sl9ewVhiY1p_"
   },
   "source": [
    "## Task\n",
    "\n",
    "Create a regression tree using the boston.csv data. Upload the data. Fill in the blanks accordingly."
   ]
  },
  {
   "cell_type": "code",
   "execution_count": 19,
   "metadata": {
    "id": "HCBlk6_6HTU0"
   },
   "outputs": [],
   "source": [
    "import pandas as pd  #we import pandas so as to be able to load and read the csv file\n",
    "from sklearn.tree import DecisionTreeRegressor #we import decisiontreeregressor form sklearn\n",
    "from sklearn.model_selection import train_test_split #import a module from sklearn because we want to split our data and use some to train our model and test using ths part of the data\n",
    "from sklearn.metrics import mean_squared_error   #to test the accuracy of our model"
   ]
  },
  {
   "cell_type": "markdown",
   "metadata": {
    "id": "D8EOJhluK8u9"
   },
   "source": [
    "## Read in the data"
   ]
  },
  {
   "cell_type": "code",
   "execution_count": 20,
   "metadata": {
    "id": "ZSRE19RZHgjB"
   },
   "outputs": [],
   "source": [
    "# read our data from the csv file.\n",
    "df = pd.read_csv(\"boston.csv\")"
   ]
  },
  {
   "cell_type": "code",
   "execution_count": 21,
   "metadata": {
    "colab": {
     "base_uri": "https://localhost:8080/",
     "height": 206
    },
    "id": "1ziNI4jXHngY",
    "outputId": "d12895be-4eda-4349-dfdf-5d2b060a8e7d"
   },
   "outputs": [
    {
     "data": {
      "text/html": [
       "<div>\n",
       "<style scoped>\n",
       "    .dataframe tbody tr th:only-of-type {\n",
       "        vertical-align: middle;\n",
       "    }\n",
       "\n",
       "    .dataframe tbody tr th {\n",
       "        vertical-align: top;\n",
       "    }\n",
       "\n",
       "    .dataframe thead th {\n",
       "        text-align: right;\n",
       "    }\n",
       "</style>\n",
       "<table border=\"1\" class=\"dataframe\">\n",
       "  <thead>\n",
       "    <tr style=\"text-align: right;\">\n",
       "      <th></th>\n",
       "      <th>crim</th>\n",
       "      <th>zn</th>\n",
       "      <th>indus</th>\n",
       "      <th>chas</th>\n",
       "      <th>nox</th>\n",
       "      <th>rm</th>\n",
       "      <th>age</th>\n",
       "      <th>dis</th>\n",
       "      <th>rad</th>\n",
       "      <th>tax</th>\n",
       "      <th>ptratio</th>\n",
       "      <th>b</th>\n",
       "      <th>lstat</th>\n",
       "      <th>medv</th>\n",
       "    </tr>\n",
       "  </thead>\n",
       "  <tbody>\n",
       "    <tr>\n",
       "      <th>0</th>\n",
       "      <td>0.00632</td>\n",
       "      <td>18.0</td>\n",
       "      <td>2.31</td>\n",
       "      <td>0</td>\n",
       "      <td>0.538</td>\n",
       "      <td>6.575</td>\n",
       "      <td>65.2</td>\n",
       "      <td>4.0900</td>\n",
       "      <td>1</td>\n",
       "      <td>296</td>\n",
       "      <td>15.3</td>\n",
       "      <td>396.90</td>\n",
       "      <td>4.98</td>\n",
       "      <td>24.0</td>\n",
       "    </tr>\n",
       "    <tr>\n",
       "      <th>1</th>\n",
       "      <td>0.02731</td>\n",
       "      <td>0.0</td>\n",
       "      <td>7.07</td>\n",
       "      <td>0</td>\n",
       "      <td>0.469</td>\n",
       "      <td>6.421</td>\n",
       "      <td>78.9</td>\n",
       "      <td>4.9671</td>\n",
       "      <td>2</td>\n",
       "      <td>242</td>\n",
       "      <td>17.8</td>\n",
       "      <td>396.90</td>\n",
       "      <td>9.14</td>\n",
       "      <td>21.6</td>\n",
       "    </tr>\n",
       "    <tr>\n",
       "      <th>2</th>\n",
       "      <td>0.02729</td>\n",
       "      <td>0.0</td>\n",
       "      <td>7.07</td>\n",
       "      <td>0</td>\n",
       "      <td>0.469</td>\n",
       "      <td>7.185</td>\n",
       "      <td>61.1</td>\n",
       "      <td>4.9671</td>\n",
       "      <td>2</td>\n",
       "      <td>242</td>\n",
       "      <td>17.8</td>\n",
       "      <td>392.83</td>\n",
       "      <td>4.03</td>\n",
       "      <td>34.7</td>\n",
       "    </tr>\n",
       "    <tr>\n",
       "      <th>3</th>\n",
       "      <td>0.03237</td>\n",
       "      <td>0.0</td>\n",
       "      <td>2.18</td>\n",
       "      <td>0</td>\n",
       "      <td>0.458</td>\n",
       "      <td>6.998</td>\n",
       "      <td>45.8</td>\n",
       "      <td>6.0622</td>\n",
       "      <td>3</td>\n",
       "      <td>222</td>\n",
       "      <td>18.7</td>\n",
       "      <td>394.63</td>\n",
       "      <td>2.94</td>\n",
       "      <td>33.4</td>\n",
       "    </tr>\n",
       "    <tr>\n",
       "      <th>4</th>\n",
       "      <td>0.06905</td>\n",
       "      <td>0.0</td>\n",
       "      <td>2.18</td>\n",
       "      <td>0</td>\n",
       "      <td>0.458</td>\n",
       "      <td>7.147</td>\n",
       "      <td>54.2</td>\n",
       "      <td>6.0622</td>\n",
       "      <td>3</td>\n",
       "      <td>222</td>\n",
       "      <td>18.7</td>\n",
       "      <td>396.90</td>\n",
       "      <td>5.33</td>\n",
       "      <td>36.2</td>\n",
       "    </tr>\n",
       "  </tbody>\n",
       "</table>\n",
       "</div>"
      ],
      "text/plain": [
       "      crim    zn  indus  chas    nox     rm   age     dis  rad  tax  ptratio  \\\n",
       "0  0.00632  18.0   2.31     0  0.538  6.575  65.2  4.0900    1  296     15.3   \n",
       "1  0.02731   0.0   7.07     0  0.469  6.421  78.9  4.9671    2  242     17.8   \n",
       "2  0.02729   0.0   7.07     0  0.469  7.185  61.1  4.9671    2  242     17.8   \n",
       "3  0.03237   0.0   2.18     0  0.458  6.998  45.8  6.0622    3  222     18.7   \n",
       "4  0.06905   0.0   2.18     0  0.458  7.147  54.2  6.0622    3  222     18.7   \n",
       "\n",
       "        b  lstat  medv  \n",
       "0  396.90   4.98  24.0  \n",
       "1  396.90   9.14  21.6  \n",
       "2  392.83   4.03  34.7  \n",
       "3  394.63   2.94  33.4  \n",
       "4  396.90   5.33  36.2  "
      ]
     },
     "execution_count": 21,
     "metadata": {},
     "output_type": "execute_result"
    }
   ],
   "source": [
    "df.head() # code to display our data"
   ]
  },
  {
   "cell_type": "code",
   "execution_count": 22,
   "metadata": {
    "colab": {
     "base_uri": "https://localhost:8080/",
     "height": 364
    },
    "id": "APLF9ScoLrbl",
    "outputId": "3d5cf40e-dc53-4f7d-937c-eedef4e91555"
   },
   "outputs": [
    {
     "data": {
      "text/html": [
       "<div>\n",
       "<style scoped>\n",
       "    .dataframe tbody tr th:only-of-type {\n",
       "        vertical-align: middle;\n",
       "    }\n",
       "\n",
       "    .dataframe tbody tr th {\n",
       "        vertical-align: top;\n",
       "    }\n",
       "\n",
       "    .dataframe thead th {\n",
       "        text-align: right;\n",
       "    }\n",
       "</style>\n",
       "<table border=\"1\" class=\"dataframe\">\n",
       "  <thead>\n",
       "    <tr style=\"text-align: right;\">\n",
       "      <th></th>\n",
       "      <th>crim</th>\n",
       "      <th>zn</th>\n",
       "      <th>indus</th>\n",
       "      <th>chas</th>\n",
       "      <th>nox</th>\n",
       "      <th>rm</th>\n",
       "      <th>age</th>\n",
       "      <th>dis</th>\n",
       "      <th>rad</th>\n",
       "      <th>tax</th>\n",
       "      <th>ptratio</th>\n",
       "      <th>b</th>\n",
       "      <th>lstat</th>\n",
       "      <th>medv</th>\n",
       "    </tr>\n",
       "  </thead>\n",
       "  <tbody>\n",
       "    <tr>\n",
       "      <th>count</th>\n",
       "      <td>506.000000</td>\n",
       "      <td>506.000000</td>\n",
       "      <td>506.000000</td>\n",
       "      <td>506.000000</td>\n",
       "      <td>506.000000</td>\n",
       "      <td>506.000000</td>\n",
       "      <td>506.000000</td>\n",
       "      <td>506.000000</td>\n",
       "      <td>506.000000</td>\n",
       "      <td>506.000000</td>\n",
       "      <td>506.000000</td>\n",
       "      <td>506.000000</td>\n",
       "      <td>506.000000</td>\n",
       "      <td>506.000000</td>\n",
       "    </tr>\n",
       "    <tr>\n",
       "      <th>mean</th>\n",
       "      <td>3.613524</td>\n",
       "      <td>11.363636</td>\n",
       "      <td>11.136779</td>\n",
       "      <td>0.069170</td>\n",
       "      <td>0.554695</td>\n",
       "      <td>6.284634</td>\n",
       "      <td>68.574901</td>\n",
       "      <td>3.795043</td>\n",
       "      <td>9.549407</td>\n",
       "      <td>408.237154</td>\n",
       "      <td>18.455534</td>\n",
       "      <td>356.674032</td>\n",
       "      <td>12.653063</td>\n",
       "      <td>22.532806</td>\n",
       "    </tr>\n",
       "    <tr>\n",
       "      <th>std</th>\n",
       "      <td>8.601545</td>\n",
       "      <td>23.322453</td>\n",
       "      <td>6.860353</td>\n",
       "      <td>0.253994</td>\n",
       "      <td>0.115878</td>\n",
       "      <td>0.702617</td>\n",
       "      <td>28.148861</td>\n",
       "      <td>2.105710</td>\n",
       "      <td>8.707259</td>\n",
       "      <td>168.537116</td>\n",
       "      <td>2.164946</td>\n",
       "      <td>91.294864</td>\n",
       "      <td>7.141062</td>\n",
       "      <td>9.197104</td>\n",
       "    </tr>\n",
       "    <tr>\n",
       "      <th>min</th>\n",
       "      <td>0.006320</td>\n",
       "      <td>0.000000</td>\n",
       "      <td>0.460000</td>\n",
       "      <td>0.000000</td>\n",
       "      <td>0.385000</td>\n",
       "      <td>3.561000</td>\n",
       "      <td>2.900000</td>\n",
       "      <td>1.129600</td>\n",
       "      <td>1.000000</td>\n",
       "      <td>187.000000</td>\n",
       "      <td>12.600000</td>\n",
       "      <td>0.320000</td>\n",
       "      <td>1.730000</td>\n",
       "      <td>5.000000</td>\n",
       "    </tr>\n",
       "    <tr>\n",
       "      <th>25%</th>\n",
       "      <td>0.082045</td>\n",
       "      <td>0.000000</td>\n",
       "      <td>5.190000</td>\n",
       "      <td>0.000000</td>\n",
       "      <td>0.449000</td>\n",
       "      <td>5.885500</td>\n",
       "      <td>45.025000</td>\n",
       "      <td>2.100175</td>\n",
       "      <td>4.000000</td>\n",
       "      <td>279.000000</td>\n",
       "      <td>17.400000</td>\n",
       "      <td>375.377500</td>\n",
       "      <td>6.950000</td>\n",
       "      <td>17.025000</td>\n",
       "    </tr>\n",
       "    <tr>\n",
       "      <th>50%</th>\n",
       "      <td>0.256510</td>\n",
       "      <td>0.000000</td>\n",
       "      <td>9.690000</td>\n",
       "      <td>0.000000</td>\n",
       "      <td>0.538000</td>\n",
       "      <td>6.208500</td>\n",
       "      <td>77.500000</td>\n",
       "      <td>3.207450</td>\n",
       "      <td>5.000000</td>\n",
       "      <td>330.000000</td>\n",
       "      <td>19.050000</td>\n",
       "      <td>391.440000</td>\n",
       "      <td>11.360000</td>\n",
       "      <td>21.200000</td>\n",
       "    </tr>\n",
       "    <tr>\n",
       "      <th>75%</th>\n",
       "      <td>3.677082</td>\n",
       "      <td>12.500000</td>\n",
       "      <td>18.100000</td>\n",
       "      <td>0.000000</td>\n",
       "      <td>0.624000</td>\n",
       "      <td>6.623500</td>\n",
       "      <td>94.075000</td>\n",
       "      <td>5.188425</td>\n",
       "      <td>24.000000</td>\n",
       "      <td>666.000000</td>\n",
       "      <td>20.200000</td>\n",
       "      <td>396.225000</td>\n",
       "      <td>16.955000</td>\n",
       "      <td>25.000000</td>\n",
       "    </tr>\n",
       "    <tr>\n",
       "      <th>max</th>\n",
       "      <td>88.976200</td>\n",
       "      <td>100.000000</td>\n",
       "      <td>27.740000</td>\n",
       "      <td>1.000000</td>\n",
       "      <td>0.871000</td>\n",
       "      <td>8.780000</td>\n",
       "      <td>100.000000</td>\n",
       "      <td>12.126500</td>\n",
       "      <td>24.000000</td>\n",
       "      <td>711.000000</td>\n",
       "      <td>22.000000</td>\n",
       "      <td>396.900000</td>\n",
       "      <td>37.970000</td>\n",
       "      <td>50.000000</td>\n",
       "    </tr>\n",
       "  </tbody>\n",
       "</table>\n",
       "</div>"
      ],
      "text/plain": [
       "             crim          zn       indus        chas         nox          rm  \\\n",
       "count  506.000000  506.000000  506.000000  506.000000  506.000000  506.000000   \n",
       "mean     3.613524   11.363636   11.136779    0.069170    0.554695    6.284634   \n",
       "std      8.601545   23.322453    6.860353    0.253994    0.115878    0.702617   \n",
       "min      0.006320    0.000000    0.460000    0.000000    0.385000    3.561000   \n",
       "25%      0.082045    0.000000    5.190000    0.000000    0.449000    5.885500   \n",
       "50%      0.256510    0.000000    9.690000    0.000000    0.538000    6.208500   \n",
       "75%      3.677082   12.500000   18.100000    0.000000    0.624000    6.623500   \n",
       "max     88.976200  100.000000   27.740000    1.000000    0.871000    8.780000   \n",
       "\n",
       "              age         dis         rad         tax     ptratio           b  \\\n",
       "count  506.000000  506.000000  506.000000  506.000000  506.000000  506.000000   \n",
       "mean    68.574901    3.795043    9.549407  408.237154   18.455534  356.674032   \n",
       "std     28.148861    2.105710    8.707259  168.537116    2.164946   91.294864   \n",
       "min      2.900000    1.129600    1.000000  187.000000   12.600000    0.320000   \n",
       "25%     45.025000    2.100175    4.000000  279.000000   17.400000  375.377500   \n",
       "50%     77.500000    3.207450    5.000000  330.000000   19.050000  391.440000   \n",
       "75%     94.075000    5.188425   24.000000  666.000000   20.200000  396.225000   \n",
       "max    100.000000   12.126500   24.000000  711.000000   22.000000  396.900000   \n",
       "\n",
       "            lstat        medv  \n",
       "count  506.000000  506.000000  \n",
       "mean    12.653063   22.532806  \n",
       "std      7.141062    9.197104  \n",
       "min      1.730000    5.000000  \n",
       "25%      6.950000   17.025000  \n",
       "50%     11.360000   21.200000  \n",
       "75%     16.955000   25.000000  \n",
       "max     37.970000   50.000000  "
      ]
     },
     "execution_count": 22,
     "metadata": {},
     "output_type": "execute_result"
    }
   ],
   "source": [
    "df.describe() #calculates the parameters of the data, such things as mean"
   ]
  },
  {
   "cell_type": "markdown",
   "metadata": {
    "id": "h4Bk2Go8Zqew"
   },
   "source": [
    "Print the number of rows in the dataset.\n",
    "Expected value is 506"
   ]
  },
  {
   "cell_type": "code",
   "execution_count": 23,
   "metadata": {
    "colab": {
     "base_uri": "https://localhost:8080/"
    },
    "id": "qEtUFVCvL2Eh",
    "outputId": "f16afd11-3149-4ded-b7e1-38be7f951edd"
   },
   "outputs": [
    {
     "data": {
      "text/plain": [
       "506"
      ]
     },
     "execution_count": 23,
     "metadata": {},
     "output_type": "execute_result"
    }
   ],
   "source": [
    "len(df)"
   ]
  },
  {
   "cell_type": "markdown",
   "metadata": {
    "id": "DbVUs2dkK-mW"
   },
   "source": [
    "## Create X and y variables (features and target)"
   ]
  },
  {
   "cell_type": "code",
   "execution_count": 24,
   "metadata": {
    "id": "wadXLfqrHp1i"
   },
   "outputs": [],
   "source": [
    "feature_cols = ['crim', 'zn', 'indus', 'chas', 'nox', 'rm', 'age', 'dis', 'rad', 'tax', 'ptratio', 'b', 'lstat']\n",
    "X = X = df[feature_cols]\n",
    "y = df.medv #(the target is the column called medv)"
   ]
  },
  {
   "cell_type": "markdown",
   "metadata": {
    "id": "l1fPgVI8LBq9"
   },
   "source": [
    "## Split data into training and testing"
   ]
  },
  {
   "cell_type": "code",
   "execution_count": 25,
   "metadata": {
    "id": "209hHS_CHx2q"
   },
   "outputs": [],
   "source": [
    "# Set 30% of the data for testing\n",
    "X_train, X_test, y_train, y_test = train_test_split(X ,y, test_size=0.3,random_state=1)"
   ]
  },
  {
   "cell_type": "markdown",
   "metadata": {
    "id": "Eqwp2fkKLNzE"
   },
   "source": [
    "## Whenever you do some data manipulation, you should always check the resulting data"
   ]
  },
  {
   "cell_type": "markdown",
   "metadata": {
    "id": "iOQo6TMSZy6k"
   },
   "source": [
    "Get the shape of the training features.\n",
    "Expected value is (354, 13)"
   ]
  },
  {
   "cell_type": "code",
   "execution_count": 26,
   "metadata": {
    "colab": {
     "base_uri": "https://localhost:8080/"
    },
    "id": "dEyTA91aLERp",
    "outputId": "a5949078-eed0-4b70-c225-99cb7c7580cf"
   },
   "outputs": [
    {
     "data": {
      "text/plain": [
       "(354, 13)"
      ]
     },
     "execution_count": 26,
     "metadata": {},
     "output_type": "execute_result"
    }
   ],
   "source": [
    "X_train.shape #dimensions of the x train "
   ]
  },
  {
   "cell_type": "markdown",
   "metadata": {
    "id": "a9d257RQZ55S"
   },
   "source": [
    "Get the shape of the training targets.\n",
    "Expected value is (354,)"
   ]
  },
  {
   "cell_type": "code",
   "execution_count": 27,
   "metadata": {
    "colab": {
     "base_uri": "https://localhost:8080/"
    },
    "id": "bOJwXH6DLJR9",
    "outputId": "3da1881e-fe82-449a-b532-cc139a2d5f80"
   },
   "outputs": [
    {
     "data": {
      "text/plain": [
       "(354,)"
      ]
     },
     "execution_count": 27,
     "metadata": {},
     "output_type": "execute_result"
    }
   ],
   "source": [
    "y_train.shape #dimensions of the y train"
   ]
  },
  {
   "cell_type": "markdown",
   "metadata": {
    "id": "o-7vnduOZ8Os"
   },
   "source": [
    "Get the shape of the testing features.\n",
    "Expected value is (152, 13)"
   ]
  },
  {
   "cell_type": "code",
   "execution_count": 28,
   "metadata": {
    "id": "Ewkui1R_LJZR"
   },
   "outputs": [
    {
     "data": {
      "text/plain": [
       "(152, 13)"
      ]
     },
     "execution_count": 28,
     "metadata": {},
     "output_type": "execute_result"
    }
   ],
   "source": [
    "X_test.shape #dimensions of the x test"
   ]
  },
  {
   "cell_type": "markdown",
   "metadata": {
    "id": "q5WYDfQCZ-dZ"
   },
   "source": [
    "Get the shape of the testing targets.\n",
    "Expected value is (152,)"
   ]
  },
  {
   "cell_type": "code",
   "execution_count": 29,
   "metadata": {
    "colab": {
     "base_uri": "https://localhost:8080/"
    },
    "id": "QdKVREAKLJjs",
    "outputId": "933e1e30-6677-46ac-da07-abd2f4c35641"
   },
   "outputs": [
    {
     "data": {
      "text/plain": [
       "(152,)"
      ]
     },
     "execution_count": 29,
     "metadata": {},
     "output_type": "execute_result"
    }
   ],
   "source": [
    "y_test.shape #dimensions of the y test"
   ]
  },
  {
   "cell_type": "markdown",
   "metadata": {
    "id": "3gECwIxpLVdq"
   },
   "source": [
    "## Use scikit-learn to create the regression tree classifier.\n",
    "\n",
    "API: https://scikit-learn.org/stable/modules/generated/sklearn.tree.DecisionTreeRegressor.html"
   ]
  },
  {
   "cell_type": "code",
   "execution_count": 30,
   "metadata": {
    "id": "MRk-lBnLH0q2"
   },
   "outputs": [],
   "source": [
    "# Create regression tree classifier using the mean squared error criterion \n",
    "# and set a maximum depth of 3\n",
    "reg_tree = DecisionTreeRegressor(max_depth=3)\n",
    "\n",
    "# Train Decision Tree Classifer on the training data\n",
    "reg_tree = reg_tree.fit(X_train,y_train)\n",
    "\n",
    "#Predict the targets for test dataset\n",
    "y_pred = reg_tree.predict(X_test)"
   ]
  },
  {
   "cell_type": "markdown",
   "metadata": {
    "id": "WaBF_Q3BLaJ8"
   },
   "source": [
    "## Evaluate on testing data"
   ]
  },
  {
   "cell_type": "code",
   "execution_count": 31,
   "metadata": {
    "colab": {
     "base_uri": "https://localhost:8080/"
    },
    "id": "tMrQIRNZH2b5",
    "outputId": "c9392fba-5d60-45d3-ec69-fb6e1407317a"
   },
   "outputs": [
    {
     "name": "stdout",
     "output_type": "stream",
     "text": [
      "Accuracy 17.738984610684234\n"
     ]
    }
   ],
   "source": [
    "# Compare the model predictions to the true values on the test data\n",
    "# use the mean squared error metric from scikit learn which you will have to import too!\n",
    "print(\"Accuracy\", mean_squared_error(y_test,y_pred))"
   ]
  },
  {
   "cell_type": "markdown",
   "metadata": {
    "id": "TBEyFs57Lj8T"
   },
   "source": [
    "## Visualise the decision tree"
   ]
  },
  {
   "cell_type": "code",
   "execution_count": 32,
   "metadata": {},
   "outputs": [
    {
     "name": "stdout",
     "output_type": "stream",
     "text": [
      "Requirement already satisfied: graphviz in /var/autofs/misc/home/bekithemba/.local/lib/python3.9/site-packages (0.19.1)\n",
      "Note: you may need to restart the kernel to use updated packages.\n"
     ]
    }
   ],
   "source": [
    "pip install graphviz"
   ]
  },
  {
   "cell_type": "code",
   "execution_count": 34,
   "metadata": {
    "colab": {
     "base_uri": "https://localhost:8080/",
     "height": 539
    },
    "id": "FWM7PR5vH5I1",
    "outputId": "d042c39f-9ef6-4eea-b2f3-e728b280aeb3"
   },
   "outputs": [
    {
     "data": {
      "image/svg+xml": [
       "<?xml version=\"1.0\" encoding=\"UTF-8\" standalone=\"no\"?>\n",
       "<!DOCTYPE svg PUBLIC \"-//W3C//DTD SVG 1.1//EN\"\n",
       " \"http://www.w3.org/Graphics/SVG/1.1/DTD/svg11.dtd\">\n",
       "<!-- Generated by graphviz version 2.43.0 (0)\n",
       " -->\n",
       "<!-- Title: Tree Pages: 1 -->\n",
       "<svg width=\"902pt\" height=\"373pt\"\n",
       " viewBox=\"0.00 0.00 901.50 373.00\" xmlns=\"http://www.w3.org/2000/svg\" xmlns:xlink=\"http://www.w3.org/1999/xlink\">\n",
       "<g id=\"graph0\" class=\"graph\" transform=\"scale(1 1) rotate(0) translate(4 369)\">\n",
       "<title>Tree</title>\n",
       "<polygon fill=\"white\" stroke=\"transparent\" points=\"-4,4 -4,-369 897.5,-369 897.5,4 -4,4\"/>\n",
       "<!-- 0 -->\n",
       "<g id=\"node1\" class=\"node\">\n",
       "<title>0</title>\n",
       "<polygon fill=\"#f7dac5\" stroke=\"black\" points=\"482.5,-365 385.5,-365 385.5,-297 482.5,-297 482.5,-365\"/>\n",
       "<text text-anchor=\"middle\" x=\"434\" y=\"-349.8\" font-family=\"Times,serif\" font-size=\"14.00\">lstat &lt;= 9.545</text>\n",
       "<text text-anchor=\"middle\" x=\"434\" y=\"-334.8\" font-family=\"Times,serif\" font-size=\"14.00\">mse = 81.189</text>\n",
       "<text text-anchor=\"middle\" x=\"434\" y=\"-319.8\" font-family=\"Times,serif\" font-size=\"14.00\">samples = 354</text>\n",
       "<text text-anchor=\"middle\" x=\"434\" y=\"-304.8\" font-family=\"Times,serif\" font-size=\"14.00\">value = 22.34</text>\n",
       "</g>\n",
       "<!-- 1 -->\n",
       "<g id=\"node2\" class=\"node\">\n",
       "<title>1</title>\n",
       "<polygon fill=\"#f2c19e\" stroke=\"black\" points=\"371.5,-261 274.5,-261 274.5,-193 371.5,-193 371.5,-261\"/>\n",
       "<text text-anchor=\"middle\" x=\"323\" y=\"-245.8\" font-family=\"Times,serif\" font-size=\"14.00\">rm &lt;= 7.435</text>\n",
       "<text text-anchor=\"middle\" x=\"323\" y=\"-230.8\" font-family=\"Times,serif\" font-size=\"14.00\">mse = 78.714</text>\n",
       "<text text-anchor=\"middle\" x=\"323\" y=\"-215.8\" font-family=\"Times,serif\" font-size=\"14.00\">samples = 136</text>\n",
       "<text text-anchor=\"middle\" x=\"323\" y=\"-200.8\" font-family=\"Times,serif\" font-size=\"14.00\">value = 29.99</text>\n",
       "</g>\n",
       "<!-- 0&#45;&gt;1 -->\n",
       "<g id=\"edge1\" class=\"edge\">\n",
       "<title>0&#45;&gt;1</title>\n",
       "<path fill=\"none\" stroke=\"black\" d=\"M397.96,-296.88C387.98,-287.71 377.03,-277.65 366.66,-268.12\"/>\n",
       "<polygon fill=\"black\" stroke=\"black\" points=\"368.97,-265.49 359.24,-261.3 364.23,-270.64 368.97,-265.49\"/>\n",
       "<text text-anchor=\"middle\" x=\"360.29\" y=\"-282.58\" font-family=\"Times,serif\" font-size=\"14.00\">True</text>\n",
       "</g>\n",
       "<!-- 8 -->\n",
       "<g id=\"node9\" class=\"node\">\n",
       "<title>8</title>\n",
       "<polygon fill=\"#fbe9dd\" stroke=\"black\" points=\"600.5,-261 501.5,-261 501.5,-193 600.5,-193 600.5,-261\"/>\n",
       "<text text-anchor=\"middle\" x=\"551\" y=\"-245.8\" font-family=\"Times,serif\" font-size=\"14.00\">lstat &lt;= 19.26</text>\n",
       "<text text-anchor=\"middle\" x=\"551\" y=\"-230.8\" font-family=\"Times,serif\" font-size=\"14.00\">mse = 23.449</text>\n",
       "<text text-anchor=\"middle\" x=\"551\" y=\"-215.8\" font-family=\"Times,serif\" font-size=\"14.00\">samples = 218</text>\n",
       "<text text-anchor=\"middle\" x=\"551\" y=\"-200.8\" font-family=\"Times,serif\" font-size=\"14.00\">value = 17.567</text>\n",
       "</g>\n",
       "<!-- 0&#45;&gt;8 -->\n",
       "<g id=\"edge8\" class=\"edge\">\n",
       "<title>0&#45;&gt;8</title>\n",
       "<path fill=\"none\" stroke=\"black\" d=\"M471.99,-296.88C482.51,-287.71 494.05,-277.65 504.98,-268.12\"/>\n",
       "<polygon fill=\"black\" stroke=\"black\" points=\"507.57,-270.51 512.8,-261.3 502.97,-265.23 507.57,-270.51\"/>\n",
       "<text text-anchor=\"middle\" x=\"511.1\" y=\"-282.54\" font-family=\"Times,serif\" font-size=\"14.00\">False</text>\n",
       "</g>\n",
       "<!-- 2 -->\n",
       "<g id=\"node3\" class=\"node\">\n",
       "<title>2</title>\n",
       "<polygon fill=\"#f4c9aa\" stroke=\"black\" points=\"203.5,-157 104.5,-157 104.5,-89 203.5,-89 203.5,-157\"/>\n",
       "<text text-anchor=\"middle\" x=\"154\" y=\"-141.8\" font-family=\"Times,serif\" font-size=\"14.00\">dis &lt;= 1.485</text>\n",
       "<text text-anchor=\"middle\" x=\"154\" y=\"-126.8\" font-family=\"Times,serif\" font-size=\"14.00\">mse = 45.062</text>\n",
       "<text text-anchor=\"middle\" x=\"154\" y=\"-111.8\" font-family=\"Times,serif\" font-size=\"14.00\">samples = 117</text>\n",
       "<text text-anchor=\"middle\" x=\"154\" y=\"-96.8\" font-family=\"Times,serif\" font-size=\"14.00\">value = 27.666</text>\n",
       "</g>\n",
       "<!-- 1&#45;&gt;2 -->\n",
       "<g id=\"edge2\" class=\"edge\">\n",
       "<title>1&#45;&gt;2</title>\n",
       "<path fill=\"none\" stroke=\"black\" d=\"M274.12,-196.5C254.84,-184.86 232.54,-171.4 212.42,-159.26\"/>\n",
       "<polygon fill=\"black\" stroke=\"black\" points=\"214.02,-156.14 203.65,-153.97 210.4,-162.13 214.02,-156.14\"/>\n",
       "</g>\n",
       "<!-- 5 -->\n",
       "<g id=\"node6\" class=\"node\">\n",
       "<title>5</title>\n",
       "<polygon fill=\"#e99356\" stroke=\"black\" points=\"371.5,-157 274.5,-157 274.5,-89 371.5,-89 371.5,-157\"/>\n",
       "<text text-anchor=\"middle\" x=\"323\" y=\"-141.8\" font-family=\"Times,serif\" font-size=\"14.00\">crim &lt;= 2.742</text>\n",
       "<text text-anchor=\"middle\" x=\"323\" y=\"-126.8\" font-family=\"Times,serif\" font-size=\"14.00\">mse = 47.9</text>\n",
       "<text text-anchor=\"middle\" x=\"323\" y=\"-111.8\" font-family=\"Times,serif\" font-size=\"14.00\">samples = 19</text>\n",
       "<text text-anchor=\"middle\" x=\"323\" y=\"-96.8\" font-family=\"Times,serif\" font-size=\"14.00\">value = 44.3</text>\n",
       "</g>\n",
       "<!-- 1&#45;&gt;5 -->\n",
       "<g id=\"edge5\" class=\"edge\">\n",
       "<title>1&#45;&gt;5</title>\n",
       "<path fill=\"none\" stroke=\"black\" d=\"M323,-192.88C323,-184.78 323,-175.98 323,-167.47\"/>\n",
       "<polygon fill=\"black\" stroke=\"black\" points=\"326.5,-167.3 323,-157.3 319.5,-167.3 326.5,-167.3\"/>\n",
       "</g>\n",
       "<!-- 3 -->\n",
       "<g id=\"node4\" class=\"node\">\n",
       "<title>3</title>\n",
       "<polygon fill=\"#e58139\" stroke=\"black\" points=\"86,-53 0,-53 0,0 86,0 86,-53\"/>\n",
       "<text text-anchor=\"middle\" x=\"43\" y=\"-37.8\" font-family=\"Times,serif\" font-size=\"14.00\">mse = 0.0</text>\n",
       "<text text-anchor=\"middle\" x=\"43\" y=\"-22.8\" font-family=\"Times,serif\" font-size=\"14.00\">samples = 4</text>\n",
       "<text text-anchor=\"middle\" x=\"43\" y=\"-7.8\" font-family=\"Times,serif\" font-size=\"14.00\">value = 50.0</text>\n",
       "</g>\n",
       "<!-- 2&#45;&gt;3 -->\n",
       "<g id=\"edge3\" class=\"edge\">\n",
       "<title>2&#45;&gt;3</title>\n",
       "<path fill=\"none\" stroke=\"black\" d=\"M115.18,-88.95C104.11,-79.53 92.07,-69.27 81.05,-59.89\"/>\n",
       "<polygon fill=\"black\" stroke=\"black\" points=\"83.11,-57.05 73.23,-53.24 78.58,-62.38 83.11,-57.05\"/>\n",
       "</g>\n",
       "<!-- 4 -->\n",
       "<g id=\"node5\" class=\"node\">\n",
       "<title>4</title>\n",
       "<polygon fill=\"#f4ccae\" stroke=\"black\" points=\"203.5,-53 104.5,-53 104.5,0 203.5,0 203.5,-53\"/>\n",
       "<text text-anchor=\"middle\" x=\"154\" y=\"-37.8\" font-family=\"Times,serif\" font-size=\"14.00\">mse = 28.375</text>\n",
       "<text text-anchor=\"middle\" x=\"154\" y=\"-22.8\" font-family=\"Times,serif\" font-size=\"14.00\">samples = 113</text>\n",
       "<text text-anchor=\"middle\" x=\"154\" y=\"-7.8\" font-family=\"Times,serif\" font-size=\"14.00\">value = 26.875</text>\n",
       "</g>\n",
       "<!-- 2&#45;&gt;4 -->\n",
       "<g id=\"edge4\" class=\"edge\">\n",
       "<title>2&#45;&gt;4</title>\n",
       "<path fill=\"none\" stroke=\"black\" d=\"M154,-88.95C154,-80.72 154,-71.85 154,-63.48\"/>\n",
       "<polygon fill=\"black\" stroke=\"black\" points=\"157.5,-63.24 154,-53.24 150.5,-63.24 157.5,-63.24\"/>\n",
       "</g>\n",
       "<!-- 6 -->\n",
       "<g id=\"node7\" class=\"node\">\n",
       "<title>6</title>\n",
       "<polygon fill=\"#e88f50\" stroke=\"black\" points=\"320.5,-53 221.5,-53 221.5,0 320.5,0 320.5,-53\"/>\n",
       "<text text-anchor=\"middle\" x=\"271\" y=\"-37.8\" font-family=\"Times,serif\" font-size=\"14.00\">mse = 21.137</text>\n",
       "<text text-anchor=\"middle\" x=\"271\" y=\"-22.8\" font-family=\"Times,serif\" font-size=\"14.00\">samples = 18</text>\n",
       "<text text-anchor=\"middle\" x=\"271\" y=\"-7.8\" font-family=\"Times,serif\" font-size=\"14.00\">value = 45.544</text>\n",
       "</g>\n",
       "<!-- 5&#45;&gt;6 -->\n",
       "<g id=\"edge6\" class=\"edge\">\n",
       "<title>5&#45;&gt;6</title>\n",
       "<path fill=\"none\" stroke=\"black\" d=\"M304.81,-88.95C300.03,-80.26 294.86,-70.86 290.03,-62.09\"/>\n",
       "<polygon fill=\"black\" stroke=\"black\" points=\"293.05,-60.31 285.16,-53.24 286.92,-63.69 293.05,-60.31\"/>\n",
       "</g>\n",
       "<!-- 7 -->\n",
       "<g id=\"node8\" class=\"node\">\n",
       "<title>7</title>\n",
       "<polygon fill=\"#f8dcc7\" stroke=\"black\" points=\"425,-53 339,-53 339,0 425,0 425,-53\"/>\n",
       "<text text-anchor=\"middle\" x=\"382\" y=\"-37.8\" font-family=\"Times,serif\" font-size=\"14.00\">mse = 0.0</text>\n",
       "<text text-anchor=\"middle\" x=\"382\" y=\"-22.8\" font-family=\"Times,serif\" font-size=\"14.00\">samples = 1</text>\n",
       "<text text-anchor=\"middle\" x=\"382\" y=\"-7.8\" font-family=\"Times,serif\" font-size=\"14.00\">value = 21.9</text>\n",
       "</g>\n",
       "<!-- 5&#45;&gt;7 -->\n",
       "<g id=\"edge7\" class=\"edge\">\n",
       "<title>5&#45;&gt;7</title>\n",
       "<path fill=\"none\" stroke=\"black\" d=\"M343.64,-88.95C349.12,-80.17 355.05,-70.66 360.58,-61.82\"/>\n",
       "<polygon fill=\"black\" stroke=\"black\" points=\"363.6,-63.57 365.93,-53.24 357.67,-59.87 363.6,-63.57\"/>\n",
       "</g>\n",
       "<!-- 9 -->\n",
       "<g id=\"node10\" class=\"node\">\n",
       "<title>9</title>\n",
       "<polygon fill=\"#f9e3d4\" stroke=\"black\" points=\"601.5,-157 500.5,-157 500.5,-89 601.5,-89 601.5,-157\"/>\n",
       "<text text-anchor=\"middle\" x=\"551\" y=\"-141.8\" font-family=\"Times,serif\" font-size=\"14.00\">lstat &lt;= 14.795</text>\n",
       "<text text-anchor=\"middle\" x=\"551\" y=\"-126.8\" font-family=\"Times,serif\" font-size=\"14.00\">mse = 12.711</text>\n",
       "<text text-anchor=\"middle\" x=\"551\" y=\"-111.8\" font-family=\"Times,serif\" font-size=\"14.00\">samples = 157</text>\n",
       "<text text-anchor=\"middle\" x=\"551\" y=\"-96.8\" font-family=\"Times,serif\" font-size=\"14.00\">value = 19.44</text>\n",
       "</g>\n",
       "<!-- 8&#45;&gt;9 -->\n",
       "<g id=\"edge9\" class=\"edge\">\n",
       "<title>8&#45;&gt;9</title>\n",
       "<path fill=\"none\" stroke=\"black\" d=\"M551,-192.88C551,-184.78 551,-175.98 551,-167.47\"/>\n",
       "<polygon fill=\"black\" stroke=\"black\" points=\"554.5,-167.3 551,-157.3 547.5,-167.3 554.5,-167.3\"/>\n",
       "</g>\n",
       "<!-- 12 -->\n",
       "<g id=\"node13\" class=\"node\">\n",
       "<title>12</title>\n",
       "<polygon fill=\"#fef9f6\" stroke=\"black\" points=\"776.5,-157 677.5,-157 677.5,-89 776.5,-89 776.5,-157\"/>\n",
       "<text text-anchor=\"middle\" x=\"727\" y=\"-141.8\" font-family=\"Times,serif\" font-size=\"14.00\">nox &lt;= 0.603</text>\n",
       "<text text-anchor=\"middle\" x=\"727\" y=\"-126.8\" font-family=\"Times,serif\" font-size=\"14.00\">mse = 18.829</text>\n",
       "<text text-anchor=\"middle\" x=\"727\" y=\"-111.8\" font-family=\"Times,serif\" font-size=\"14.00\">samples = 61</text>\n",
       "<text text-anchor=\"middle\" x=\"727\" y=\"-96.8\" font-family=\"Times,serif\" font-size=\"14.00\">value = 12.748</text>\n",
       "</g>\n",
       "<!-- 8&#45;&gt;12 -->\n",
       "<g id=\"edge12\" class=\"edge\">\n",
       "<title>8&#45;&gt;12</title>\n",
       "<path fill=\"none\" stroke=\"black\" d=\"M600.96,-197.04C621.95,-184.88 646.52,-170.64 668.36,-157.98\"/>\n",
       "<polygon fill=\"black\" stroke=\"black\" points=\"670.32,-160.89 677.22,-152.85 666.81,-154.84 670.32,-160.89\"/>\n",
       "</g>\n",
       "<!-- 10 -->\n",
       "<g id=\"node11\" class=\"node\">\n",
       "<title>10</title>\n",
       "<polygon fill=\"#f8dfcd\" stroke=\"black\" points=\"542.5,-53 443.5,-53 443.5,0 542.5,0 542.5,-53\"/>\n",
       "<text text-anchor=\"middle\" x=\"493\" y=\"-37.8\" font-family=\"Times,serif\" font-size=\"14.00\">mse = 9.139</text>\n",
       "<text text-anchor=\"middle\" x=\"493\" y=\"-22.8\" font-family=\"Times,serif\" font-size=\"14.00\">samples = 96</text>\n",
       "<text text-anchor=\"middle\" x=\"493\" y=\"-7.8\" font-family=\"Times,serif\" font-size=\"14.00\">value = 20.824</text>\n",
       "</g>\n",
       "<!-- 9&#45;&gt;10 -->\n",
       "<g id=\"edge10\" class=\"edge\">\n",
       "<title>9&#45;&gt;10</title>\n",
       "<path fill=\"none\" stroke=\"black\" d=\"M530.71,-88.95C525.32,-80.17 519.49,-70.66 514.06,-61.82\"/>\n",
       "<polygon fill=\"black\" stroke=\"black\" points=\"517.01,-59.93 508.8,-53.24 511.04,-63.59 517.01,-59.93\"/>\n",
       "</g>\n",
       "<!-- 11 -->\n",
       "<g id=\"node12\" class=\"node\">\n",
       "<title>11</title>\n",
       "<polygon fill=\"#fbeadf\" stroke=\"black\" points=\"659.5,-53 560.5,-53 560.5,0 659.5,0 659.5,-53\"/>\n",
       "<text text-anchor=\"middle\" x=\"610\" y=\"-37.8\" font-family=\"Times,serif\" font-size=\"14.00\">mse = 10.576</text>\n",
       "<text text-anchor=\"middle\" x=\"610\" y=\"-22.8\" font-family=\"Times,serif\" font-size=\"14.00\">samples = 61</text>\n",
       "<text text-anchor=\"middle\" x=\"610\" y=\"-7.8\" font-family=\"Times,serif\" font-size=\"14.00\">value = 17.262</text>\n",
       "</g>\n",
       "<!-- 9&#45;&gt;11 -->\n",
       "<g id=\"edge11\" class=\"edge\">\n",
       "<title>9&#45;&gt;11</title>\n",
       "<path fill=\"none\" stroke=\"black\" d=\"M571.64,-88.95C577.12,-80.17 583.05,-70.66 588.58,-61.82\"/>\n",
       "<polygon fill=\"black\" stroke=\"black\" points=\"591.6,-63.57 593.93,-53.24 585.67,-59.87 591.6,-63.57\"/>\n",
       "</g>\n",
       "<!-- 13 -->\n",
       "<g id=\"node14\" class=\"node\">\n",
       "<title>13</title>\n",
       "<polygon fill=\"#fbebdf\" stroke=\"black\" points=\"776.5,-53 677.5,-53 677.5,0 776.5,0 776.5,-53\"/>\n",
       "<text text-anchor=\"middle\" x=\"727\" y=\"-37.8\" font-family=\"Times,serif\" font-size=\"14.00\">mse = 12.244</text>\n",
       "<text text-anchor=\"middle\" x=\"727\" y=\"-22.8\" font-family=\"Times,serif\" font-size=\"14.00\">samples = 18</text>\n",
       "<text text-anchor=\"middle\" x=\"727\" y=\"-7.8\" font-family=\"Times,serif\" font-size=\"14.00\">value = 17.183</text>\n",
       "</g>\n",
       "<!-- 12&#45;&gt;13 -->\n",
       "<g id=\"edge13\" class=\"edge\">\n",
       "<title>12&#45;&gt;13</title>\n",
       "<path fill=\"none\" stroke=\"black\" d=\"M727,-88.95C727,-80.72 727,-71.85 727,-63.48\"/>\n",
       "<polygon fill=\"black\" stroke=\"black\" points=\"730.5,-63.24 727,-53.24 723.5,-63.24 730.5,-63.24\"/>\n",
       "</g>\n",
       "<!-- 14 -->\n",
       "<g id=\"node15\" class=\"node\">\n",
       "<title>14</title>\n",
       "<polygon fill=\"#ffffff\" stroke=\"black\" points=\"893.5,-53 794.5,-53 794.5,0 893.5,0 893.5,-53\"/>\n",
       "<text text-anchor=\"middle\" x=\"844\" y=\"-37.8\" font-family=\"Times,serif\" font-size=\"14.00\">mse = 9.901</text>\n",
       "<text text-anchor=\"middle\" x=\"844\" y=\"-22.8\" font-family=\"Times,serif\" font-size=\"14.00\">samples = 43</text>\n",
       "<text text-anchor=\"middle\" x=\"844\" y=\"-7.8\" font-family=\"Times,serif\" font-size=\"14.00\">value = 10.891</text>\n",
       "</g>\n",
       "<!-- 12&#45;&gt;14 -->\n",
       "<g id=\"edge14\" class=\"edge\">\n",
       "<title>12&#45;&gt;14</title>\n",
       "<path fill=\"none\" stroke=\"black\" d=\"M767.92,-88.95C779.7,-79.43 792.53,-69.07 804.24,-59.62\"/>\n",
       "<polygon fill=\"black\" stroke=\"black\" points=\"806.56,-62.24 812.14,-53.24 802.16,-56.8 806.56,-62.24\"/>\n",
       "</g>\n",
       "</g>\n",
       "</svg>\n"
      ],
      "text/plain": [
       "<graphviz.sources.Source at 0x7fd962412400>"
      ]
     },
     "execution_count": 34,
     "metadata": {},
     "output_type": "execute_result"
    }
   ],
   "source": [
    "import graphviz\n",
    "from sklearn import tree\n",
    "dot_data = tree.export_graphviz(reg_tree, out_file=None, \n",
    "                                feature_names=feature_cols,  \n",
    "                                class_names=['0', '1'],\n",
    "                                filled=True)\n",
    "\n",
    "# Draw graph\n",
    "graph = graphviz.Source(dot_data, format=\"png\") \n",
    "graph"
   ]
  },
  {
   "cell_type": "markdown",
   "metadata": {
    "id": "k8x5cOdiYchd"
   },
   "source": [
    "# Task\n",
    "\n",
    "Print out the regression tree in text form. See this tutorial https://mljar.com/blog/visualize-decision-tree/ and scroll down to where it says \"Visualizing the Decision Tree in Regression Task\". The first example shows you how to print the tree in text form"
   ]
  },
  {
   "cell_type": "code",
   "execution_count": 36,
   "metadata": {
    "colab": {
     "base_uri": "https://localhost:8080/"
    },
    "id": "5a_2HG7XJdD2",
    "outputId": "8dacc6e1-0968-4ed9-a089-a21cbcf0f8a2"
   },
   "outputs": [
    {
     "name": "stdout",
     "output_type": "stream",
     "text": [
      "|--- feature_12 <= 9.55\n",
      "|   |--- feature_5 <= 7.43\n",
      "|   |   |--- feature_7 <= 1.48\n",
      "|   |   |   |--- value: [50.00]\n",
      "|   |   |--- feature_7 >  1.48\n",
      "|   |   |   |--- value: [26.88]\n",
      "|   |--- feature_5 >  7.43\n",
      "|   |   |--- feature_0 <= 2.74\n",
      "|   |   |   |--- value: [45.54]\n",
      "|   |   |--- feature_0 >  2.74\n",
      "|   |   |   |--- value: [21.90]\n",
      "|--- feature_12 >  9.55\n",
      "|   |--- feature_12 <= 19.26\n",
      "|   |   |--- feature_12 <= 14.80\n",
      "|   |   |   |--- value: [20.82]\n",
      "|   |   |--- feature_12 >  14.80\n",
      "|   |   |   |--- value: [17.26]\n",
      "|   |--- feature_12 >  19.26\n",
      "|   |   |--- feature_4 <= 0.60\n",
      "|   |   |   |--- value: [17.18]\n",
      "|   |   |--- feature_4 >  0.60\n",
      "|   |   |   |--- value: [10.89]\n",
      "\n"
     ]
    }
   ],
   "source": [
    "text_representation = tree.export_text(reg_tree)#code that gives the text presentation of the decision tree\n",
    "print(text_representation)"
   ]
  },
  {
   "cell_type": "code",
   "execution_count": null,
   "metadata": {
    "id": "r7Kyx5p3YVfa"
   },
   "outputs": [],
   "source": []
  }
 ],
 "metadata": {
  "colab": {
   "collapsed_sections": [],
   "name": "AIMS_DS_2022_RT_2.ipynb",
   "provenance": []
  },
  "kernelspec": {
   "display_name": "Python 3",
   "language": "python",
   "name": "python3"
  },
  "language_info": {
   "codemirror_mode": {
    "name": "ipython",
    "version": 3
   },
   "file_extension": ".py",
   "mimetype": "text/x-python",
   "name": "python",
   "nbconvert_exporter": "python",
   "pygments_lexer": "ipython3",
   "version": "3.9.2"
  }
 },
 "nbformat": 4,
 "nbformat_minor": 1
}
